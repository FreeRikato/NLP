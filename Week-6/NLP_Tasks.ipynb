{
  "nbformat": 4,
  "nbformat_minor": 0,
  "metadata": {
    "colab": {
      "provenance": [],
      "authorship_tag": "ABX9TyNJ3NZ5m+/oBT+Kr5Qxb0U2"
    },
    "kernelspec": {
      "name": "python3",
      "display_name": "Python 3"
    },
    "language_info": {
      "name": "python"
    }
  },
  "cells": [
    {
      "cell_type": "markdown",
      "source": [
        "## Multi-Page Document Classification"
      ],
      "metadata": {
        "id": "2WI2B7NRk6a-"
      }
    },
    {
      "cell_type": "code",
      "execution_count": 1,
      "metadata": {
        "colab": {
          "base_uri": "https://localhost:8080/"
        },
        "id": "8fyaXE_Lke8r",
        "outputId": "ccd02a9f-5db3-4c45-909f-56903b0d6bd9"
      },
      "outputs": [
        {
          "output_type": "stream",
          "name": "stdout",
          "text": [
            "Predicted Category: ['NLP']\n"
          ]
        }
      ],
      "source": [
        "from sklearn.feature_extraction.text import CountVectorizer\n",
        "from sklearn.naive_bayes import MultinomialNB\n",
        "from sklearn.pipeline import make_pipeline\n",
        "\n",
        "# Sample multi-page documents\n",
        "documents = [\n",
        "    'This is the first document. It is about NLP.',\n",
        "    'This is the second document. It contains information about Machine Learning.'\n",
        "]\n",
        "labels = ['NLP', 'Machine Learning']\n",
        "\n",
        "# Create and train the model\n",
        "model = make_pipeline(CountVectorizer(), MultinomialNB())\n",
        "model.fit(documents, labels)\n",
        "\n",
        "# Predict category for a new document\n",
        "new_doc = ['This document discusses NLP techniques.']\n",
        "predicted_category = model.predict(new_doc)\n",
        "print(\"Predicted Category:\", predicted_category)\n"
      ]
    },
    {
      "cell_type": "markdown",
      "source": [
        "## Spam Email Detection"
      ],
      "metadata": {
        "id": "U96Kt7cKlA9U"
      }
    },
    {
      "cell_type": "code",
      "source": [
        "import pandas as pd\n",
        "from sklearn.model_selection import train_test_split\n",
        "from sklearn.feature_extraction.text import TfidfVectorizer\n",
        "from sklearn.naive_bayes import MultinomialNB\n",
        "\n",
        "# Sample email data\n",
        "spam_data = {\n",
        "    'text': ['Free money!!!', 'Hi, how are you?', 'Get rich quick!', 'Meeting at 10 AM.'],\n",
        "    'label': ['spam', 'ham', 'spam', 'ham']\n",
        "}\n",
        "df = pd.DataFrame(spam_data)\n",
        "\n",
        "# Split data\n",
        "X_train, X_test, y_train, y_test = train_test_split(df['text'], df['label'], test_size=0.25, random_state=42)\n",
        "\n",
        "# Vectorization\n",
        "vectorizer = TfidfVectorizer()\n",
        "X_train_vec = vectorizer.fit_transform(X_train)\n",
        "\n",
        "# Train spam classifier\n",
        "model_spam = MultinomialNB()\n",
        "model_spam.fit(X_train_vec, y_train)\n",
        "\n",
        "# Predict\n",
        "X_test_vec = vectorizer.transform(X_test)\n",
        "pred_spam = model_spam.predict(X_test_vec)\n",
        "print(\"Spam Prediction:\", pred_spam)\n"
      ],
      "metadata": {
        "colab": {
          "base_uri": "https://localhost:8080/"
        },
        "id": "GHTY3T0jlEhq",
        "outputId": "b9815201-9ac3-4e94-c41b-dea300f8f0cc"
      },
      "execution_count": 2,
      "outputs": [
        {
          "output_type": "stream",
          "name": "stdout",
          "text": [
            "Spam Prediction: ['spam']\n"
          ]
        }
      ]
    },
    {
      "cell_type": "markdown",
      "source": [
        "## Topic Modeling"
      ],
      "metadata": {
        "id": "C5uW43DDlHSM"
      }
    },
    {
      "cell_type": "code",
      "source": [
        "from sklearn.decomposition import LatentDirichletAllocation\n",
        "from sklearn.feature_extraction.text import CountVectorizer\n",
        "\n",
        "# Sample text data for topic modeling\n",
        "texts = [\n",
        "    'I love programming in Python.',\n",
        "    'Python is great for data science.',\n",
        "    'Data analysis is key in machine learning.',\n",
        "    'Natural language processing is an exciting field.'\n",
        "]\n",
        "\n",
        "# Vectorization\n",
        "vectorizer = CountVectorizer()\n",
        "X_topic = vectorizer.fit_transform(texts)\n",
        "\n",
        "# Topic modeling\n",
        "lda = LatentDirichletAllocation(n_components=2, random_state=42)\n",
        "lda.fit(X_topic)\n",
        "\n",
        "# Transform documents to topic space\n",
        "topics = lda.transform(X_topic)\n",
        "print(\"Topics Distribution:\\n\", topics)\n"
      ],
      "metadata": {
        "colab": {
          "base_uri": "https://localhost:8080/"
        },
        "id": "SX9sLoJwlF_f",
        "outputId": "4028fd11-db61-416d-c7f0-79a0e5b5862f"
      },
      "execution_count": 4,
      "outputs": [
        {
          "output_type": "stream",
          "name": "stdout",
          "text": [
            "Topics Distribution:\n",
            " [[0.89048136 0.10951864]\n",
            " [0.91424315 0.08575685]\n",
            " [0.07777014 0.92222986]\n",
            " [0.06729811 0.93270189]]\n"
          ]
        }
      ]
    },
    {
      "cell_type": "markdown",
      "source": [
        "## Content-Based Product Recommendations"
      ],
      "metadata": {
        "id": "vTxUm5vmlfFq"
      }
    },
    {
      "cell_type": "code",
      "source": [
        "import numpy as np\n",
        "from sklearn.metrics.pairwise import cosine_similarity\n",
        "\n",
        "# Sample product data\n",
        "product_data = {\n",
        "    'Product 1': 'NLP and machine learning tutorials',\n",
        "    'Product 2': 'Python programming for beginners',\n",
        "    'Product 3': 'Advanced data science techniques'\n",
        "}\n",
        "\n",
        "# Convert to DataFrame\n",
        "product_df = pd.DataFrame(list(product_data.items()), columns=['Product', 'Description'])\n",
        "\n",
        "# Create feature matrix\n",
        "product_features = CountVectorizer().fit_transform(product_df['Description'])\n",
        "\n",
        "# Compute similarities\n",
        "similarity_matrix = cosine_similarity(product_features)\n",
        "\n",
        "# Recommend products\n",
        "product_index = 0  # Example: Product 1\n",
        "recommended_indices = np.argsort(similarity_matrix[product_index])[:-3:-1]  # Top 2\n",
        "recommended_products = product_df.iloc[recommended_indices]['Product'].values.tolist()\n",
        "print(\"Recommended Products:\", recommended_products)\n"
      ],
      "metadata": {
        "colab": {
          "base_uri": "https://localhost:8080/"
        },
        "id": "VoF1XCMglb2w",
        "outputId": "636bc92b-3e98-4cb2-bd56-3ff837b5508d"
      },
      "execution_count": 5,
      "outputs": [
        {
          "output_type": "stream",
          "name": "stdout",
          "text": [
            "Recommended Products: ['Product 1', 'Product 3']\n"
          ]
        }
      ]
    },
    {
      "cell_type": "code",
      "source": [],
      "metadata": {
        "id": "qfpmC1LFliLz"
      },
      "execution_count": null,
      "outputs": []
    }
  ]
}